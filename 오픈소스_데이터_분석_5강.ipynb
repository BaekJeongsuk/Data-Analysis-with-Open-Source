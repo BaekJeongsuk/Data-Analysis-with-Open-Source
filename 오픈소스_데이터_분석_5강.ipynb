{
  "nbformat": 4,
  "nbformat_minor": 0,
  "metadata": {
    "colab": {
      "provenance": [],
      "include_colab_link": true
    },
    "kernelspec": {
      "name": "python3",
      "display_name": "Python 3"
    },
    "language_info": {
      "name": "python"
    }
  },
  "cells": [
    {
      "cell_type": "markdown",
      "metadata": {
        "id": "view-in-github",
        "colab_type": "text"
      },
      "source": [
        "<a href=\"https://colab.research.google.com/github/BaekJeongsuk/Data-Analysis-with-Open-Source/blob/main/%EC%98%A4%ED%94%88%EC%86%8C%EC%8A%A4_%EB%8D%B0%EC%9D%B4%ED%84%B0_%EB%B6%84%EC%84%9D_5%EA%B0%95.ipynb\" target=\"_parent\"><img src=\"https://colab.research.google.com/assets/colab-badge.svg\" alt=\"Open In Colab\"/></a>"
      ]
    },
    {
      "cell_type": "markdown",
      "source": [
        "# 오픈소스 기반 데이터 분석 5강 - 데이터 저장"
      ],
      "metadata": {
        "id": "O4kC4JMknVnK"
      }
    },
    {
      "cell_type": "markdown",
      "source": [
        "## 5-1 CSV 형식 저장"
      ],
      "metadata": {
        "id": "8DfV0cZLqj_s"
      }
    },
    {
      "cell_type": "code",
      "source": [
        "import pandas as pd\n",
        "\n",
        "data = {\n",
        "    'student_id': [101, 102, 103, 104, 105],\n",
        "    'database_score': [85, 76, 92, 63, 88],\n",
        "    'cloudcomputing_score': [78, 82, 95, 70, 84],\n",
        "    'python_score': [92, 78, 85, 75, 91],\n",
        "    'watch_rate': [0.95, 0.87, 0.99, 0.80, 0.93]\n",
        "}\n",
        "## DataFrame 생성\n",
        "df = pd.DataFrame(data)\n",
        "\n",
        "## CSV 형식 저장\n",
        "df.to_csv('student_analysis.csv', encoding='utf-8', index=False)"
      ],
      "metadata": {
        "id": "DztLRI9gW2lk"
      },
      "execution_count": null,
      "outputs": []
    },
    {
      "cell_type": "markdown",
      "source": [
        "## 5-2 JSON 형식 저장"
      ],
      "metadata": {
        "id": "CSABzaf3q8XU"
      }
    },
    {
      "cell_type": "code",
      "source": [
        "### 라이브러리 임포트\n",
        "import json\n",
        "import pandas as pd\n",
        "\n",
        "data = {\n",
        "    \"이름\": \"홍길동\",\n",
        "    \"나이\": 25,\n",
        "    \"거주지\": \"서울\",\n",
        "    \"관심사\": [\"프로그래밍\", \"데이터 분석\", \"여행\"]\n",
        "}\n",
        "\n",
        "## json.dump를 이용한 저장\n",
        "with open('outpot.json', mode='w', encoding='utf=8') as f:\n",
        "    json.dump(data, f, indent=4, ensure_ascii=False)\n",
        "\n",
        "## DataFrame을 이용한 저장\n",
        "df = pd.DataFrame([data])\n",
        "df.to_json('output_df.json', orient='columns', indent=4, force_ascii=False)"
      ],
      "metadata": {
        "id": "7bAgRpizW7Vj"
      },
      "execution_count": null,
      "outputs": []
    },
    {
      "cell_type": "markdown",
      "source": [
        "## 5-3 Pandas Dataframe 데이터 추출"
      ],
      "metadata": {
        "id": "NMlsQDHtrA_x"
      }
    },
    {
      "cell_type": "code",
      "source": [
        "import pandas as pd\n",
        "\n",
        "data = {\n",
        "    \"이름\": [\"김철수\", \"이영희\", \"박민수\", \"최지훈\", \"정소희\"],\n",
        "    \"학년\": [1, 2, 3, 4, 2],\n",
        "    \"학점\": [4.2, 3.8, 4.5, 3.9, 3.5],\n",
        "    \"학과\": [\"컴퓨터학\", \"경영학\", \"농학\", \"교육학\", \"영어영문학\"],\n",
        "    \"동아리\": [\"프로그래밍\", \"독서토론\", \"로봇공학\", \"봉사활동\", \"음악감상\"]\n",
        "}\n",
        "df = pd.DataFrame(data)\n",
        "df\n",
        "\n",
        "## DataFrame 인덱스 출력\n",
        "print(df.index)\n",
        "\n",
        "## DataFrame 컬럼 출력\n",
        "print(df.columns)\n",
        "\n",
        "## DataFrame 행 출력\n",
        "print(df.values)\n",
        "\n",
        "## DataFrame 값 출력\n",
        "print(df.values.flatten())"
      ],
      "metadata": {
        "id": "dk3xneVAW9_g",
        "outputId": "50fe1ea2-33c2-431d-aa10-ed6d178e5b6c",
        "colab": {
          "base_uri": "https://localhost:8080/"
        }
      },
      "execution_count": null,
      "outputs": [
        {
          "output_type": "stream",
          "name": "stdout",
          "text": [
            "RangeIndex(start=0, stop=5, step=1)\n",
            "Index(['이름', '학년', '학점', '학과', '동아리'], dtype='object')\n",
            "[['김철수' 1 4.2 '컴퓨터학' '프로그래밍']\n",
            " ['이영희' 2 3.8 '경영학' '독서토론']\n",
            " ['박민수' 3 4.5 '농학' '로봇공학']\n",
            " ['최지훈' 4 3.9 '교육학' '봉사활동']\n",
            " ['정소희' 2 3.5 '영어영문학' '음악감상']]\n",
            "['김철수' 1 4.2 '컴퓨터학' '프로그래밍' '이영희' 2 3.8 '경영학' '독서토론' '박민수' 3 4.5 '농학'\n",
            " '로봇공학' '최지훈' 4 3.9 '교육학' '봉사활동' '정소희' 2 3.5 '영어영문학' '음악감상']\n"
          ]
        }
      ]
    },
    {
      "cell_type": "markdown",
      "source": [
        "## 5-4 DataFrame 생성 방법"
      ],
      "metadata": {
        "id": "ILJd1GLoseqm"
      }
    },
    {
      "cell_type": "code",
      "source": [
        "import pandas as pd\n",
        "import json\n",
        "\n",
        "data = {\n",
        "    \"이름\": [\"김철수\", \"이영희\", \"박민수\", \"최지훈\", \"정소희\"],\n",
        "    \"학년\": [1, 2, 3, 4, 2],\n",
        "    \"학점\": [4.2, 3.8, 4.5, 3.9, 3.5],\n",
        "    \"학과\": [\"컴퓨터공학\", \"경영학\", \"전자공학\", \"의학\", \"심리학\"],\n",
        "    \"동아리\": [\"프로그래밍\", \"독서토론\", \"로봇공학\", \"봉사활동\", \"음악감상\"]\n",
        "}\n",
        "\n",
        "## 딕셔너리, csv, json으로 부터 DataFrame 생성\n",
        "df1 = pd.DataFrame.from_dict(data)\n",
        "df2 = pd.read_csv('students.csv')\n",
        "df3 = pd.read_json('students.json')\n",
        "\n",
        "## 세가지 방법 결과 비교\n",
        "print(df1.shape)\n",
        "print(df2.shape)\n",
        "print(df3.shape)\n"
      ],
      "metadata": {
        "id": "ISnPLEgNXAmi",
        "outputId": "1748435e-724b-48e5-db1a-f5e5ef52dc43",
        "colab": {
          "base_uri": "https://localhost:8080/"
        }
      },
      "execution_count": null,
      "outputs": [
        {
          "output_type": "stream",
          "name": "stdout",
          "text": [
            "(5, 5)\n",
            "(5, 5)\n",
            "(5, 5)\n"
          ]
        }
      ]
    },
    {
      "cell_type": "markdown",
      "source": [
        "## 5-5 DataFrame 저장 방법"
      ],
      "metadata": {
        "id": "z1N6lAnwsdyU"
      }
    },
    {
      "cell_type": "code",
      "source": [
        "import pandas as pd\n",
        "\n",
        "data = {\n",
        "    \"이름\": [\"김철수\", \"이영희\", \"박민수\", \"최지훈\", \"정소희\"],\n",
        "    \"학년\": [1, 2, 3, 4, 2],\n",
        "    \"학점\": [4.2, 3.8, 4.5, 3.9, 3.5],\n",
        "    \"학과\": [\"컴퓨터공학\", \"경영학\", \"전자공학\", \"의학\", \"심리학\"],\n",
        "    \"동아리\": [\"프로그래밍\", \"독서토론\", \"로봇공학\", \"봉사활동\", \"음악감상\"]\n",
        "}\n",
        "\n",
        "## Dataframe 생성\n",
        "df = pd.DataFrame(data)\n",
        "\n",
        "## CSV, JSON 형식으로 저장\n",
        "df.to_csv('students_scores.csv')\n",
        "df.to_json('students_scores.json')\n",
        "\n",
        "## HTML 형식으로 저장\n",
        "html_table = df.to_html()\n",
        "with open('students_scores.html', 'w') as f:\n",
        "    f.write(html_table)\n"
      ],
      "metadata": {
        "id": "_dqoWCRoXDrJ"
      },
      "execution_count": null,
      "outputs": []
    },
    {
      "cell_type": "markdown",
      "source": [
        "## 5-6 실습 시나리오"
      ],
      "metadata": {
        "id": "ifBFAyulsdJb"
      }
    },
    {
      "cell_type": "markdown",
      "source": [
        "## 데이터 수집"
      ],
      "metadata": {
        "id": "muFj6okKyXy6"
      }
    },
    {
      "cell_type": "code",
      "source": [
        "import requests\n",
        "\n",
        "url = \"http://openapi.seoul.go.kr:8088/72557745436261653436656d5a764d/json/energyUseDataSummaryInfo/1/5/2015/01\"\n",
        "api_key = '72557745436261653436656d5a764d'\n",
        "\n",
        "params = {\n",
        "    'serviceKey': api_key,\n",
        "    'returnType': 'json',\n",
        "    'numOfRows': '100',\n",
        "    'pageNo': '1',\n",
        "    'sidoName': '서울',\n",
        "    'ver': '1.0'\n",
        "}\n",
        "\n",
        "## 데이터 수집\n",
        "response = requests.get(url, params=params)\n",
        "\n",
        "## 호출 성공/실패 출력\n",
        "print(response.json())\n"
      ],
      "metadata": {
        "id": "7yCozmQeXJcO",
        "outputId": "4626b5ce-ac91-46a1-913d-cc4f962cb97d",
        "colab": {
          "base_uri": "https://localhost:8080/"
        }
      },
      "execution_count": null,
      "outputs": [
        {
          "output_type": "stream",
          "name": "stdout",
          "text": [
            "{'energyUseDataSummaryInfo': {'list_total_count': 7, 'RESULT': {'CODE': 'INFO-000', 'MESSAGE': '정상 처리되었습니다'}, 'row': [{'YEAR': '2015', 'MON': '01', 'MM_TYPE': '개인', 'CNT': '767791', 'EUS': '193784708', 'EUS1': '194781915', 'EUS2': '204969429', 'ECO2_1': '-6090964', 'ECO2_2': '-2582568.736', 'GUS': '59133720', 'GUS1': '57163993', 'GUS2': '68297619', 'GCO2_1': '-3597086', 'GCO2_2': '-8057472.64', 'WUS': '12819757.886', 'WUS1': '12723680.426', 'WUS2': '12899476.73', 'WCO2_1': '8179.308', 'WCO2_2': '2715.530256', 'HUS': '22740838.937', 'HUS1': '23400055.303', 'HUS2': '27090493.875', 'HCO2_1': '-2504435.652', 'HCO2_2': '-33660084.213069', 'REG_DATE': '2015-06-04 17:03:55.0'}, {'YEAR': '2015', 'MON': '01', 'MM_TYPE': '학교', 'CNT': '1382', 'EUS': '134955565', 'EUS1': '128707423', 'EUS2': '145561511', 'ECO2_1': '-2178902', 'ECO2_2': '-923854.448', 'GUS': '9107197', 'GUS1': '8410968', 'GUS2': '10745416', 'GCO2_1': '-470995', 'GCO2_2': '-1055028.8', 'WUS': '2075819.2', 'WUS1': '2097433.8', 'WUS2': '2133200.8', 'WCO2_1': '-39498.1', 'WCO2_2': '-13113.3692', 'HUS': '0', 'HUS1': '0', 'HUS2': '0', 'HCO2_1': '0', 'HCO2_2': '0', 'REG_DATE': '2015-06-04 17:03:55.0'}, {'YEAR': '2015', 'MON': '01', 'MM_TYPE': '종교단체', 'CNT': '32', 'EUS': '372270', 'EUS1': '363376', 'EUS2': '411363', 'ECO2_1': '-15099.5', 'ECO2_2': '-6402.188', 'GUS': '53331', 'GUS1': '45727', 'GUS2': '63312', 'GCO2_1': '-1188.5', 'GCO2_2': '-2662.24', 'WUS': '5945', 'WUS1': '4548', 'WUS2': '4519', 'WCO2_1': '1411.5', 'WCO2_2': '468.618', 'HUS': '0', 'HUS1': '0', 'HUS2': '0', 'HCO2_1': '0', 'HCO2_2': '0', 'REG_DATE': '2015-06-04 17:03:55.0'}, {'YEAR': '2015', 'MON': '01', 'MM_TYPE': '소상공인', 'CNT': '2058', 'EUS': '10249618', 'EUS1': '9927610', 'EUS2': '11039593', 'ECO2_1': '-233983.5', 'ECO2_2': '-99209.004', 'GUS': '536119', 'GUS1': '523810', 'GUS2': '642921', 'GCO2_1': '-47246.5', 'GCO2_2': '-105832.16', 'WUS': '147273', 'WUS1': '146480.6', 'WUS2': '147325.6', 'WCO2_1': '369.9', 'WCO2_2': '122.8068', 'HUS': '0', 'HUS1': '0', 'HUS2': '0', 'HCO2_1': '0', 'HCO2_2': '0', 'REG_DATE': '2015-06-04 17:03:55.0'}, {'YEAR': '2015', 'MON': '01', 'MM_TYPE': '공동주택관리소', 'CNT': '1747', 'EUS': '327102096', 'EUS1': '329852334', 'EUS2': '351694752', 'ECO2_1': '-13671447', 'ECO2_2': '-5796693.528', 'GUS': '22834274', 'GUS1': '21141017', 'GUS2': '25338506', 'GCO2_1': '-405487.5', 'GCO2_2': '-908292', 'WUS': '12844807.5', 'WUS1': '12763070', 'WUS2': '12979835.8', 'WCO2_1': '-26645.4', 'WCO2_2': '-8846.2728', 'HUS': '0', 'HUS1': '0', 'HUS2': '0', 'HCO2_1': '0', 'HCO2_2': '0', 'REG_DATE': '2015-06-04 17:03:55.0'}]}}\n"
          ]
        }
      ]
    },
    {
      "cell_type": "code",
      "source": [
        "response.json()"
      ],
      "metadata": {
        "id": "Jtxm7HlJcok7",
        "outputId": "074dfc29-1d82-4a02-eeeb-abed0298a694",
        "colab": {
          "base_uri": "https://localhost:8080/"
        }
      },
      "execution_count": null,
      "outputs": [
        {
          "output_type": "execute_result",
          "data": {
            "text/plain": [
              "{'energyUseDataSummaryInfo': {'list_total_count': 7,\n",
              "  'RESULT': {'CODE': 'INFO-000', 'MESSAGE': '정상 처리되었습니다'},\n",
              "  'row': [{'YEAR': '2015',\n",
              "    'MON': '01',\n",
              "    'MM_TYPE': '개인',\n",
              "    'CNT': '767791',\n",
              "    'EUS': '193784708',\n",
              "    'EUS1': '194781915',\n",
              "    'EUS2': '204969429',\n",
              "    'ECO2_1': '-6090964',\n",
              "    'ECO2_2': '-2582568.736',\n",
              "    'GUS': '59133720',\n",
              "    'GUS1': '57163993',\n",
              "    'GUS2': '68297619',\n",
              "    'GCO2_1': '-3597086',\n",
              "    'GCO2_2': '-8057472.64',\n",
              "    'WUS': '12819757.886',\n",
              "    'WUS1': '12723680.426',\n",
              "    'WUS2': '12899476.73',\n",
              "    'WCO2_1': '8179.308',\n",
              "    'WCO2_2': '2715.530256',\n",
              "    'HUS': '22740838.937',\n",
              "    'HUS1': '23400055.303',\n",
              "    'HUS2': '27090493.875',\n",
              "    'HCO2_1': '-2504435.652',\n",
              "    'HCO2_2': '-33660084.213069',\n",
              "    'REG_DATE': '2015-06-04 17:03:55.0'},\n",
              "   {'YEAR': '2015',\n",
              "    'MON': '01',\n",
              "    'MM_TYPE': '학교',\n",
              "    'CNT': '1382',\n",
              "    'EUS': '134955565',\n",
              "    'EUS1': '128707423',\n",
              "    'EUS2': '145561511',\n",
              "    'ECO2_1': '-2178902',\n",
              "    'ECO2_2': '-923854.448',\n",
              "    'GUS': '9107197',\n",
              "    'GUS1': '8410968',\n",
              "    'GUS2': '10745416',\n",
              "    'GCO2_1': '-470995',\n",
              "    'GCO2_2': '-1055028.8',\n",
              "    'WUS': '2075819.2',\n",
              "    'WUS1': '2097433.8',\n",
              "    'WUS2': '2133200.8',\n",
              "    'WCO2_1': '-39498.1',\n",
              "    'WCO2_2': '-13113.3692',\n",
              "    'HUS': '0',\n",
              "    'HUS1': '0',\n",
              "    'HUS2': '0',\n",
              "    'HCO2_1': '0',\n",
              "    'HCO2_2': '0',\n",
              "    'REG_DATE': '2015-06-04 17:03:55.0'},\n",
              "   {'YEAR': '2015',\n",
              "    'MON': '01',\n",
              "    'MM_TYPE': '종교단체',\n",
              "    'CNT': '32',\n",
              "    'EUS': '372270',\n",
              "    'EUS1': '363376',\n",
              "    'EUS2': '411363',\n",
              "    'ECO2_1': '-15099.5',\n",
              "    'ECO2_2': '-6402.188',\n",
              "    'GUS': '53331',\n",
              "    'GUS1': '45727',\n",
              "    'GUS2': '63312',\n",
              "    'GCO2_1': '-1188.5',\n",
              "    'GCO2_2': '-2662.24',\n",
              "    'WUS': '5945',\n",
              "    'WUS1': '4548',\n",
              "    'WUS2': '4519',\n",
              "    'WCO2_1': '1411.5',\n",
              "    'WCO2_2': '468.618',\n",
              "    'HUS': '0',\n",
              "    'HUS1': '0',\n",
              "    'HUS2': '0',\n",
              "    'HCO2_1': '0',\n",
              "    'HCO2_2': '0',\n",
              "    'REG_DATE': '2015-06-04 17:03:55.0'},\n",
              "   {'YEAR': '2015',\n",
              "    'MON': '01',\n",
              "    'MM_TYPE': '소상공인',\n",
              "    'CNT': '2058',\n",
              "    'EUS': '10249618',\n",
              "    'EUS1': '9927610',\n",
              "    'EUS2': '11039593',\n",
              "    'ECO2_1': '-233983.5',\n",
              "    'ECO2_2': '-99209.004',\n",
              "    'GUS': '536119',\n",
              "    'GUS1': '523810',\n",
              "    'GUS2': '642921',\n",
              "    'GCO2_1': '-47246.5',\n",
              "    'GCO2_2': '-105832.16',\n",
              "    'WUS': '147273',\n",
              "    'WUS1': '146480.6',\n",
              "    'WUS2': '147325.6',\n",
              "    'WCO2_1': '369.9',\n",
              "    'WCO2_2': '122.8068',\n",
              "    'HUS': '0',\n",
              "    'HUS1': '0',\n",
              "    'HUS2': '0',\n",
              "    'HCO2_1': '0',\n",
              "    'HCO2_2': '0',\n",
              "    'REG_DATE': '2015-06-04 17:03:55.0'},\n",
              "   {'YEAR': '2015',\n",
              "    'MON': '01',\n",
              "    'MM_TYPE': '공동주택관리소',\n",
              "    'CNT': '1747',\n",
              "    'EUS': '327102096',\n",
              "    'EUS1': '329852334',\n",
              "    'EUS2': '351694752',\n",
              "    'ECO2_1': '-13671447',\n",
              "    'ECO2_2': '-5796693.528',\n",
              "    'GUS': '22834274',\n",
              "    'GUS1': '21141017',\n",
              "    'GUS2': '25338506',\n",
              "    'GCO2_1': '-405487.5',\n",
              "    'GCO2_2': '-908292',\n",
              "    'WUS': '12844807.5',\n",
              "    'WUS1': '12763070',\n",
              "    'WUS2': '12979835.8',\n",
              "    'WCO2_1': '-26645.4',\n",
              "    'WCO2_2': '-8846.2728',\n",
              "    'HUS': '0',\n",
              "    'HUS1': '0',\n",
              "    'HUS2': '0',\n",
              "    'HCO2_1': '0',\n",
              "    'HCO2_2': '0',\n",
              "    'REG_DATE': '2015-06-04 17:03:55.0'}]}}"
            ]
          },
          "metadata": {},
          "execution_count": 23
        }
      ]
    },
    {
      "cell_type": "code",
      "source": [
        "import requests\n",
        "\n",
        "url = \"http://openapi.seoul.go.kr:8088/72557745436261653436656d5a764d/json/energyUseDataSummaryInfo/1/5/{}/{}\"\n",
        "api_key = '72557745436261653436656d5a764d'\n",
        "\n",
        "params = {\n",
        "    'serviceKey': api_key,\n",
        "    'returnType': 'json',\n",
        "    'numOfRows': '100',\n",
        "    'pageNo': '1',\n",
        "    'sidoName': '서울',\n",
        "    'ver': '1.0'\n",
        "}\n",
        "\n",
        "## 데이터 수집\n",
        "response = requests.get(url, params=params)\n",
        "\n",
        "## 호출 성공/실패 출력\n",
        "print(response.json())\n"
      ],
      "metadata": {
        "id": "gc6ggjbiZGNW",
        "outputId": "3d88e71d-2488-4cf2-be71-82cdb7b84297",
        "colab": {
          "base_uri": "https://localhost:8080/"
        }
      },
      "execution_count": null,
      "outputs": [
        {
          "output_type": "stream",
          "name": "stdout",
          "text": [
            "{'energyUseDataSummaryInfo': {'list_total_count': 7, 'RESULT': {'CODE': 'INFO-000', 'MESSAGE': '정상 처리되었습니다'}, 'row': [{'YEAR': '2015', 'MON': '02', 'MM_TYPE': '개인', 'CNT': '774620', 'EUS': '189974230', 'EUS1': '193611430', 'EUS2': '200055533', 'ECO2_1': '-6859251.5', 'ECO2_2': '-2908322.636', 'GUS': '56487358', 'GUS1': '59353536', 'GUS2': '66191173', 'GCO2_1': '-6284996.5', 'GCO2_2': '-14078392.16', 'WUS': '12656888.218', 'WUS1': '12713146.172', 'WUS2': '12948410.081', 'WCO2_1': '-173889.9085', 'WCO2_2': '-57731.449622', 'HUS': '18793320.213', 'HUS1': '19032221.757', 'HUS2': '21414367.325', 'HCO2_1': '-1429974.328', 'HCO2_2': '-17311712.76832', 'REG_DATE': '2015-06-04 16:59:30.0'}, {'YEAR': '2015', 'MON': '02', 'MM_TYPE': '기업', 'CNT': '16966', 'EUS': '523325778', 'EUS1': '542435234', 'EUS2': '567181200', 'ECO2_1': '-31482439', 'ECO2_2': '-13348554.136', 'GUS': '32508993', 'GUS1': '35169022', 'GUS2': '44168086', 'GCO2_1': '-7159561', 'GCO2_2': '-16037416.64', 'WUS': '6859860.8', 'WUS1': '6853247.6', 'WUS2': '7071961.8', 'WCO2_1': '-102743.9', 'WCO2_2': '-34110.9748', 'HUS': '0', 'HUS1': '0', 'HUS2': '0', 'HCO2_1': '0', 'HCO2_2': '0', 'REG_DATE': '2015-06-04 16:59:30.0'}, {'YEAR': '2015', 'MON': '02', 'MM_TYPE': '소상공인', 'CNT': '2153', 'EUS': '9763412', 'EUS1': '9786829', 'EUS2': '10214569', 'ECO2_1': '-237287', 'ECO2_2': '-100609.688', 'GUS': '500186', 'GUS1': '506300', 'GUS2': '583970', 'GCO2_1': '-44949', 'GCO2_2': '-100685.76', 'WUS': '187015.2', 'WUS1': '183563.4', 'WUS2': '194518.373', 'WCO2_1': '-2025.6865', 'WCO2_2': '-672.527918', 'HUS': '0', 'HUS1': '0', 'HUS2': '0', 'HCO2_1': '0', 'HCO2_2': '0', 'REG_DATE': '2015-06-04 16:59:30.0'}, {'YEAR': '2015', 'MON': '02', 'MM_TYPE': '공공기관', 'CNT': '2981', 'EUS': '230038970', 'EUS1': '227707037', 'EUS2': '239494601', 'ECO2_1': '-3561849', 'ECO2_2': '-1510223.976', 'GUS': '10730599', 'GUS1': '10003033', 'GUS2': '13321495', 'GCO2_1': '-931665', 'GCO2_2': '-2086929.6', 'WUS': '1398431.4', 'WUS1': '1283504.4', 'WUS2': '1331699.8', 'WCO2_1': '90829.3', 'WCO2_2': '30155.3276', 'HUS': '0', 'HUS1': '0', 'HUS2': '0', 'HCO2_1': '0', 'HCO2_2': '0', 'REG_DATE': '2015-06-04 16:59:30.0'}, {'YEAR': '2015', 'MON': '02', 'MM_TYPE': '종교단체', 'CNT': '32', 'EUS': '336476', 'EUS1': '341646', 'EUS2': '366928', 'ECO2_1': '-17811', 'ECO2_2': '-7551.864', 'GUS': '46069', 'GUS1': '49077', 'GUS2': '58309', 'GCO2_1': '-7624', 'GCO2_2': '-17077.76', 'WUS': '2019', 'WUS1': '2093', 'WUS2': '2527', 'WCO2_1': '-291', 'WCO2_2': '-96.612', 'HUS': '0', 'HUS1': '0', 'HUS2': '0', 'HCO2_1': '0', 'HCO2_2': '0', 'REG_DATE': '2015-06-04 16:59:30.0'}]}}\n"
          ]
        }
      ]
    },
    {
      "cell_type": "code",
      "source": [
        "import requests\n",
        "\n",
        "url = \"http://openapi.seoul.go.kr:8088/72557745436261653436656d5a764d/json/energyUseDataSummaryInfo/1/5/{}/{}\"\n",
        "api_key = '72557745436261653436656d5a764d'\n",
        "\n",
        "params = {\n",
        "    'serviceKey': api_key,\n",
        "    'returnType': 'json',\n",
        "    'numOfRows': '100',\n",
        "    'pageNo': '1',\n",
        "    'sidoName': '서울',\n",
        "    'ver': '1.0'\n",
        "}\n",
        "\n",
        "for year in range(2015, 2025):\n",
        "    for mon in range(1, 13):\n",
        "        response = requests.get(url, params=params)\n",
        "\n",
        "print(response.json())"
      ],
      "metadata": {
        "id": "osgoiXwxsF-z",
        "outputId": "9a70cc3a-9ca1-4cf2-88a8-b37d431d10dd",
        "colab": {
          "base_uri": "https://localhost:8080/"
        }
      },
      "execution_count": null,
      "outputs": [
        {
          "output_type": "stream",
          "name": "stdout",
          "text": [
            "{'RESULT': {'CODE': 'INFO-200', 'MESSAGE': '해당하는 데이터가 없습니다.'}}\n"
          ]
        }
      ]
    },
    {
      "cell_type": "code",
      "source": [
        "import requests\n",
        "\n",
        "base_url = \"http://openapi.seoul.go.kr:8088/72557745436261653436656d5a764d/json/energyUseDataSummaryInfo/1/5/{}/{}\"\n",
        "api_key = '72557745436261653436656d5a764d'\n",
        "\n",
        "data_list = []\n",
        "\n",
        "for year in range(2015, 2025):\n",
        "    for mon in range(1, 13):\n",
        "     ## ym = f\"{month:02d}\"\n",
        "        url = base_url.format(api_key, year, mon)\n",
        "        response = requests.get(url)\n",
        "    if response.status_code == 200:\n",
        "        data = response.json()\n",
        "        data_list.append(data)\n",
        "    else:\n",
        "        print(\"불러오기 실패:\", url)\n",
        "print(data)"
      ],
      "metadata": {
        "id": "mdNK0BxGoQ8x",
        "outputId": "d70bc80b-1fa0-4a2b-ed95-699db2ca9b81",
        "colab": {
          "base_uri": "https://localhost:8080/"
        }
      },
      "execution_count": null,
      "outputs": [
        {
          "output_type": "stream",
          "name": "stdout",
          "text": [
            "{'RESULT': {'CODE': 'INFO-200', 'MESSAGE': '해당하는 데이터가 없습니다.'}}\n"
          ]
        }
      ]
    },
    {
      "cell_type": "code",
      "source": [
        "import requests\n",
        "import time\n",
        "\n",
        "api_key = '72557745436261653436656d5a764d'\n",
        "\n",
        "for YEAR in range(2015, 2025):\n",
        "    for MON in range(1, 13):\n",
        "        url = f\"http://openapi.seoul.go.kr:8088/72557745436261653436656d5a764d/json/energyUseDataSummaryInfo/1/120/{YEAR}/{MON}\"\n",
        "        response = requests.get(url)\n",
        "\n",
        "if response.status_code == 200:\n",
        "    print(f\"{YEAR}-{MON} api 호출 성공\")\n",
        "    print(response.json())\n",
        "else:\n",
        "    print(f\"{YEAR}-{MON} API 호출 실패: {response.status_code}\")\n",
        "\n",
        "time.sleep(1)"
      ],
      "metadata": {
        "id": "s2hersd92xFD",
        "outputId": "bb5253f3-8b6f-43a9-8701-a9beb6072dce",
        "colab": {
          "base_uri": "https://localhost:8080/"
        }
      },
      "execution_count": 17,
      "outputs": [
        {
          "output_type": "stream",
          "name": "stdout",
          "text": [
            "2024-12 api 호출 성공\n",
            "{'energyUseDataSummaryInfo': {'list_total_count': 7, 'RESULT': {'CODE': 'INFO-000', 'MESSAGE': '정상 처리되었습니다'}, 'row': [{'YEAR': '2024', 'MON': '12', 'MM_TYPE': '공동주택관리소', 'CNT': '3716', 'EUS': '548480228', 'EUS1': '557799290', 'EUS2': '559693904', 'ECO2_1': '-10266369', 'ECO2_2': '-10266369', 'GUS': '8221238', 'GUS1': '9759209', 'GUS2': '9093999', 'GCO2_1': '-1114991.5', 'GCO2_2': '-2229983', 'WUS': '20262147.7', 'WUS1': '20228097.5', 'WUS2': '20488646.8', 'WCO2_1': '-96224.45', 'WCO2_2': '-288673.35', 'HUS': '0', 'HUS1': '0', 'HUS2': '0', 'HCO2_1': '0', 'HCO2_2': '0', 'REG_DATE': '2025-03-01 04:02:55.0'}, {'YEAR': '2024', 'MON': '12', 'MM_TYPE': '기업', 'CNT': '19451', 'EUS': '633735769', 'EUS1': '641412053', 'EUS2': '669494932', 'ECO2_1': '-21717723.5', 'ECO2_2': '-21717723.5', 'GUS': '30096486', 'GUS1': '45742965', 'GUS2': '34384677', 'GCO2_1': '-9960022.5', 'GCO2_2': '-19920045', 'WUS': '4448777.4', 'WUS1': '4406465.4', 'WUS2': '4396396.4', 'WCO2_1': '47346.5', 'WCO2_2': '142039.5', 'HUS': '0', 'HUS1': '0', 'HUS2': '0', 'HCO2_1': '0', 'HCO2_2': '0', 'REG_DATE': '2025-03-01 04:02:55.0'}, {'YEAR': '2024', 'MON': '12', 'MM_TYPE': '개인', 'CNT': '1250620', 'EUS': '134828126', 'EUS1': '138280636', 'EUS2': '138879530', 'ECO2_1': '-3751957', 'ECO2_2': '-3504709', 'GUS': '42103424', 'GUS1': '47763373', 'GUS2': '46794290', 'GCO2_1': '-5135298', 'GCO2_2': '-10270596', 'WUS': '7326853.6', 'WUS1': '7440605', 'WUS2': '7625718.9', 'WCO2_1': '-206308.35', 'WCO2_2': '-573725.128', 'HUS': '1513199.277', 'HUS1': '1598857.184', 'HUS2': '1781397.386', 'HCO2_1': '-176928.008', 'HCO2_2': '-376996.699240516', 'REG_DATE': '2025-03-01 04:02:55.0'}, {'YEAR': '2024', 'MON': '12', 'MM_TYPE': '공공기관', 'CNT': '2459', 'EUS': '152992881', 'EUS1': '161100765', 'EUS2': '162060905', 'ECO2_1': '-8587954', 'ECO2_2': '-8587954', 'GUS': '3814815', 'GUS1': '4485938', 'GUS2': '4347791', 'GCO2_1': '-601856', 'GCO2_2': '-1203712', 'WUS': '896842', 'WUS1': '854671.2', 'WUS2': '833317.4', 'WCO2_1': '52847.7', 'WCO2_2': '158543.1', 'HUS': '0', 'HUS1': '0', 'HUS2': '0', 'HCO2_1': '0', 'HCO2_2': '0', 'REG_DATE': '2025-03-01 04:02:55.0'}, {'YEAR': '2024', 'MON': '12', 'MM_TYPE': '학교', 'CNT': '6742', 'EUS': '164092999', 'EUS1': '170867152', 'EUS2': '169660376', 'ECO2_1': '-6170678', 'ECO2_2': '-6172770.32', 'GUS': '4362563', 'GUS1': '4794450', 'GUS2': '4840884', 'GCO2_1': '-452916.5', 'GCO2_2': '-905833', 'WUS': '1858841', 'WUS1': '1898794', 'WUS2': '1939698.4', 'WCO2_1': '-60405.2', 'WCO2_2': '-181607.796', 'HUS': '1062.62', 'HUS1': '902.03', 'HUS2': '1220.91', 'HCO2_1': '1.15', 'HCO2_2': '3.3315', 'REG_DATE': '2025-03-01 04:02:55.0'}, {'YEAR': '2024', 'MON': '12', 'MM_TYPE': '소상공인', 'CNT': '53031', 'EUS': '101773064', 'EUS1': '105830842', 'EUS2': '106996097', 'ECO2_1': '-4640405.5', 'ECO2_2': '-4640315.356', 'GUS': '2544825', 'GUS1': '2719970', 'GUS2': '2842004', 'GCO2_1': '-234683', 'GCO2_2': '-469366', 'WUS': '1560686.6', 'WUS1': '1540086.6', 'WUS2': '1542971', 'WCO2_1': '19157.8', 'WCO2_2': '57349.338', 'HUS': '360', 'HUS1': '395', 'HUS2': '470', 'HCO2_1': '-72.5', 'HCO2_2': '-288.695', 'REG_DATE': '2025-03-01 04:02:55.0'}, {'YEAR': '2024', 'MON': '12', 'MM_TYPE': '종교단체', 'CNT': '847', 'EUS': '7922631', 'EUS1': '8361049', 'EUS2': '8016890', 'ECO2_1': '-266338.5', 'ECO2_2': '-266338.5', 'GUS': '309429', 'GUS1': '378759', 'GUS2': '355715', 'GCO2_1': '-57056.5', 'GCO2_2': '-114113', 'WUS': '51695', 'WUS1': '48661', 'WUS2': '48241', 'WCO2_1': '3244', 'WCO2_2': '9732', 'HUS': '0', 'HUS1': '0', 'HUS2': '0', 'HCO2_1': '0', 'HCO2_2': '0', 'REG_DATE': '2025-03-01 04:02:55.0'}]}}\n"
          ]
        }
      ]
    },
    {
      "cell_type": "code",
      "source": [
        "import pandas as pd\n",
        "\n",
        "## requests로부터 response, body, item 항목 읽기\n",
        "data = response.json()['energyUseDataSummaryInfo']['row']\n",
        "print(type(data))\n",
        "print(len(data))\n",
        "print(data[0])"
      ],
      "metadata": {
        "id": "b2_dZSzB7bBm",
        "outputId": "bb357522-c6d9-44a7-dd26-1bc15c0be8da",
        "colab": {
          "base_uri": "https://localhost:8080/"
        }
      },
      "execution_count": 18,
      "outputs": [
        {
          "output_type": "stream",
          "name": "stdout",
          "text": [
            "<class 'list'>\n",
            "7\n",
            "{'YEAR': '2024', 'MON': '12', 'MM_TYPE': '공동주택관리소', 'CNT': '3716', 'EUS': '548480228', 'EUS1': '557799290', 'EUS2': '559693904', 'ECO2_1': '-10266369', 'ECO2_2': '-10266369', 'GUS': '8221238', 'GUS1': '9759209', 'GUS2': '9093999', 'GCO2_1': '-1114991.5', 'GCO2_2': '-2229983', 'WUS': '20262147.7', 'WUS1': '20228097.5', 'WUS2': '20488646.8', 'WCO2_1': '-96224.45', 'WCO2_2': '-288673.35', 'HUS': '0', 'HUS1': '0', 'HUS2': '0', 'HCO2_1': '0', 'HCO2_2': '0', 'REG_DATE': '2025-03-01 04:02:55.0'}\n"
          ]
        }
      ]
    },
    {
      "cell_type": "markdown",
      "source": [
        "## 데이터 프레임 생성"
      ],
      "metadata": {
        "id": "d6mT4IxkySzI"
      }
    },
    {
      "cell_type": "code",
      "source": [
        "import pandas as pd\n",
        "\n",
        "## requests로부터 response, body, item 항목 읽기\n",
        "data = response.json()['energyUseDataSummaryInfo']['row']\n",
        "print(type(data))\n",
        "print(len(data))\n",
        "print(data[0])\n",
        "df = pd.DataFrame(data)\n",
        "df['CNT']"
      ],
      "metadata": {
        "id": "HOOo9qTsXLkB",
        "outputId": "888ac842-5ca4-44e4-cbe9-284db32a94d2",
        "colab": {
          "base_uri": "https://localhost:8080/",
          "height": 317
        }
      },
      "execution_count": null,
      "outputs": [
        {
          "output_type": "stream",
          "name": "stdout",
          "text": [
            "<class 'list'>\n",
            "5\n",
            "{'YEAR': '2015', 'MON': '02', 'MM_TYPE': '개인', 'CNT': '774620', 'EUS': '189974230', 'EUS1': '193611430', 'EUS2': '200055533', 'ECO2_1': '-6859251.5', 'ECO2_2': '-2908322.636', 'GUS': '56487358', 'GUS1': '59353536', 'GUS2': '66191173', 'GCO2_1': '-6284996.5', 'GCO2_2': '-14078392.16', 'WUS': '12656888.218', 'WUS1': '12713146.172', 'WUS2': '12948410.081', 'WCO2_1': '-173889.9085', 'WCO2_2': '-57731.449622', 'HUS': '18793320.213', 'HUS1': '19032221.757', 'HUS2': '21414367.325', 'HCO2_1': '-1429974.328', 'HCO2_2': '-17311712.76832', 'REG_DATE': '2015-06-04 16:59:30.0'}\n"
          ]
        },
        {
          "output_type": "execute_result",
          "data": {
            "text/plain": [
              "0    774620\n",
              "1     16966\n",
              "2      2153\n",
              "3      2981\n",
              "4        32\n",
              "Name: CNT, dtype: object"
            ],
            "text/html": [
              "<div>\n",
              "<style scoped>\n",
              "    .dataframe tbody tr th:only-of-type {\n",
              "        vertical-align: middle;\n",
              "    }\n",
              "\n",
              "    .dataframe tbody tr th {\n",
              "        vertical-align: top;\n",
              "    }\n",
              "\n",
              "    .dataframe thead th {\n",
              "        text-align: right;\n",
              "    }\n",
              "</style>\n",
              "<table border=\"1\" class=\"dataframe\">\n",
              "  <thead>\n",
              "    <tr style=\"text-align: right;\">\n",
              "      <th></th>\n",
              "      <th>CNT</th>\n",
              "    </tr>\n",
              "  </thead>\n",
              "  <tbody>\n",
              "    <tr>\n",
              "      <th>0</th>\n",
              "      <td>774620</td>\n",
              "    </tr>\n",
              "    <tr>\n",
              "      <th>1</th>\n",
              "      <td>16966</td>\n",
              "    </tr>\n",
              "    <tr>\n",
              "      <th>2</th>\n",
              "      <td>2153</td>\n",
              "    </tr>\n",
              "    <tr>\n",
              "      <th>3</th>\n",
              "      <td>2981</td>\n",
              "    </tr>\n",
              "    <tr>\n",
              "      <th>4</th>\n",
              "      <td>32</td>\n",
              "    </tr>\n",
              "  </tbody>\n",
              "</table>\n",
              "</div><br><label><b>dtype:</b> object</label>"
            ]
          },
          "metadata": {},
          "execution_count": 2
        }
      ]
    },
    {
      "cell_type": "code",
      "source": [
        "import pandas as pd\n",
        "\n",
        "## requests로부터 response, body, item 항목 읽기\n",
        "data = response.json()['energyUseDataSummaryInfo']['row']\n",
        "df = pd.DataFrame(data)\n",
        "df"
      ],
      "metadata": {
        "id": "cUdbyqOt3oTW",
        "outputId": "1cc38784-9a7c-40ad-d5d8-e0daa207a52c",
        "colab": {
          "base_uri": "https://localhost:8080/",
          "height": 561
        }
      },
      "execution_count": 16,
      "outputs": [
        {
          "output_type": "execute_result",
          "data": {
            "text/plain": [
              "   YEAR MON  MM_TYPE      CNT        EUS       EUS1       EUS2       ECO2_1  \\\n",
              "0  2024  12  공동주택관리소     3716  548480228  557799290  559693904    -10266369   \n",
              "1  2024  12       기업    19451  633735769  641412053  669494932  -21717723.5   \n",
              "2  2024  12       개인  1250620  134828126  138280636  138879530     -3751957   \n",
              "3  2024  12     공공기관     2459  152992881  161100765  162060905     -8587954   \n",
              "4  2024  12       학교     6742  164092999  170867152  169660376     -6170678   \n",
              "5  2024  12     소상공인    53031  101773064  105830842  106996097   -4640405.5   \n",
              "6  2024  12     종교단체      847    7922631    8361049    8016890    -266338.5   \n",
              "\n",
              "         ECO2_2       GUS  ...        WUS1        WUS2      WCO2_1  \\\n",
              "0     -10266369   8221238  ...  20228097.5  20488646.8   -96224.45   \n",
              "1   -21717723.5  30096486  ...   4406465.4   4396396.4     47346.5   \n",
              "2      -3504709  42103424  ...     7440605   7625718.9  -206308.35   \n",
              "3      -8587954   3814815  ...    854671.2    833317.4     52847.7   \n",
              "4   -6172770.32   4362563  ...     1898794   1939698.4    -60405.2   \n",
              "5  -4640315.356   2544825  ...   1540086.6     1542971     19157.8   \n",
              "6     -266338.5    309429  ...       48661       48241        3244   \n",
              "\n",
              "        WCO2_2          HUS         HUS1         HUS2       HCO2_1  \\\n",
              "0   -288673.35            0            0            0            0   \n",
              "1     142039.5            0            0            0            0   \n",
              "2  -573725.128  1513199.277  1598857.184  1781397.386  -176928.008   \n",
              "3     158543.1            0            0            0            0   \n",
              "4  -181607.796      1062.62       902.03      1220.91         1.15   \n",
              "5    57349.338          360          395          470        -72.5   \n",
              "6         9732            0            0            0            0   \n",
              "\n",
              "              HCO2_2               REG_DATE  \n",
              "0                  0  2025-03-01 04:02:55.0  \n",
              "1                  0  2025-03-01 04:02:55.0  \n",
              "2  -376996.699240516  2025-03-01 04:02:55.0  \n",
              "3                  0  2025-03-01 04:02:55.0  \n",
              "4             3.3315  2025-03-01 04:02:55.0  \n",
              "5           -288.695  2025-03-01 04:02:55.0  \n",
              "6                  0  2025-03-01 04:02:55.0  \n",
              "\n",
              "[7 rows x 25 columns]"
            ],
            "text/html": [
              "\n",
              "  <div id=\"df-fb324635-5188-4f8a-9f8d-33839ac3b0ae\" class=\"colab-df-container\">\n",
              "    <div>\n",
              "<style scoped>\n",
              "    .dataframe tbody tr th:only-of-type {\n",
              "        vertical-align: middle;\n",
              "    }\n",
              "\n",
              "    .dataframe tbody tr th {\n",
              "        vertical-align: top;\n",
              "    }\n",
              "\n",
              "    .dataframe thead th {\n",
              "        text-align: right;\n",
              "    }\n",
              "</style>\n",
              "<table border=\"1\" class=\"dataframe\">\n",
              "  <thead>\n",
              "    <tr style=\"text-align: right;\">\n",
              "      <th></th>\n",
              "      <th>YEAR</th>\n",
              "      <th>MON</th>\n",
              "      <th>MM_TYPE</th>\n",
              "      <th>CNT</th>\n",
              "      <th>EUS</th>\n",
              "      <th>EUS1</th>\n",
              "      <th>EUS2</th>\n",
              "      <th>ECO2_1</th>\n",
              "      <th>ECO2_2</th>\n",
              "      <th>GUS</th>\n",
              "      <th>...</th>\n",
              "      <th>WUS1</th>\n",
              "      <th>WUS2</th>\n",
              "      <th>WCO2_1</th>\n",
              "      <th>WCO2_2</th>\n",
              "      <th>HUS</th>\n",
              "      <th>HUS1</th>\n",
              "      <th>HUS2</th>\n",
              "      <th>HCO2_1</th>\n",
              "      <th>HCO2_2</th>\n",
              "      <th>REG_DATE</th>\n",
              "    </tr>\n",
              "  </thead>\n",
              "  <tbody>\n",
              "    <tr>\n",
              "      <th>0</th>\n",
              "      <td>2024</td>\n",
              "      <td>12</td>\n",
              "      <td>공동주택관리소</td>\n",
              "      <td>3716</td>\n",
              "      <td>548480228</td>\n",
              "      <td>557799290</td>\n",
              "      <td>559693904</td>\n",
              "      <td>-10266369</td>\n",
              "      <td>-10266369</td>\n",
              "      <td>8221238</td>\n",
              "      <td>...</td>\n",
              "      <td>20228097.5</td>\n",
              "      <td>20488646.8</td>\n",
              "      <td>-96224.45</td>\n",
              "      <td>-288673.35</td>\n",
              "      <td>0</td>\n",
              "      <td>0</td>\n",
              "      <td>0</td>\n",
              "      <td>0</td>\n",
              "      <td>0</td>\n",
              "      <td>2025-03-01 04:02:55.0</td>\n",
              "    </tr>\n",
              "    <tr>\n",
              "      <th>1</th>\n",
              "      <td>2024</td>\n",
              "      <td>12</td>\n",
              "      <td>기업</td>\n",
              "      <td>19451</td>\n",
              "      <td>633735769</td>\n",
              "      <td>641412053</td>\n",
              "      <td>669494932</td>\n",
              "      <td>-21717723.5</td>\n",
              "      <td>-21717723.5</td>\n",
              "      <td>30096486</td>\n",
              "      <td>...</td>\n",
              "      <td>4406465.4</td>\n",
              "      <td>4396396.4</td>\n",
              "      <td>47346.5</td>\n",
              "      <td>142039.5</td>\n",
              "      <td>0</td>\n",
              "      <td>0</td>\n",
              "      <td>0</td>\n",
              "      <td>0</td>\n",
              "      <td>0</td>\n",
              "      <td>2025-03-01 04:02:55.0</td>\n",
              "    </tr>\n",
              "    <tr>\n",
              "      <th>2</th>\n",
              "      <td>2024</td>\n",
              "      <td>12</td>\n",
              "      <td>개인</td>\n",
              "      <td>1250620</td>\n",
              "      <td>134828126</td>\n",
              "      <td>138280636</td>\n",
              "      <td>138879530</td>\n",
              "      <td>-3751957</td>\n",
              "      <td>-3504709</td>\n",
              "      <td>42103424</td>\n",
              "      <td>...</td>\n",
              "      <td>7440605</td>\n",
              "      <td>7625718.9</td>\n",
              "      <td>-206308.35</td>\n",
              "      <td>-573725.128</td>\n",
              "      <td>1513199.277</td>\n",
              "      <td>1598857.184</td>\n",
              "      <td>1781397.386</td>\n",
              "      <td>-176928.008</td>\n",
              "      <td>-376996.699240516</td>\n",
              "      <td>2025-03-01 04:02:55.0</td>\n",
              "    </tr>\n",
              "    <tr>\n",
              "      <th>3</th>\n",
              "      <td>2024</td>\n",
              "      <td>12</td>\n",
              "      <td>공공기관</td>\n",
              "      <td>2459</td>\n",
              "      <td>152992881</td>\n",
              "      <td>161100765</td>\n",
              "      <td>162060905</td>\n",
              "      <td>-8587954</td>\n",
              "      <td>-8587954</td>\n",
              "      <td>3814815</td>\n",
              "      <td>...</td>\n",
              "      <td>854671.2</td>\n",
              "      <td>833317.4</td>\n",
              "      <td>52847.7</td>\n",
              "      <td>158543.1</td>\n",
              "      <td>0</td>\n",
              "      <td>0</td>\n",
              "      <td>0</td>\n",
              "      <td>0</td>\n",
              "      <td>0</td>\n",
              "      <td>2025-03-01 04:02:55.0</td>\n",
              "    </tr>\n",
              "    <tr>\n",
              "      <th>4</th>\n",
              "      <td>2024</td>\n",
              "      <td>12</td>\n",
              "      <td>학교</td>\n",
              "      <td>6742</td>\n",
              "      <td>164092999</td>\n",
              "      <td>170867152</td>\n",
              "      <td>169660376</td>\n",
              "      <td>-6170678</td>\n",
              "      <td>-6172770.32</td>\n",
              "      <td>4362563</td>\n",
              "      <td>...</td>\n",
              "      <td>1898794</td>\n",
              "      <td>1939698.4</td>\n",
              "      <td>-60405.2</td>\n",
              "      <td>-181607.796</td>\n",
              "      <td>1062.62</td>\n",
              "      <td>902.03</td>\n",
              "      <td>1220.91</td>\n",
              "      <td>1.15</td>\n",
              "      <td>3.3315</td>\n",
              "      <td>2025-03-01 04:02:55.0</td>\n",
              "    </tr>\n",
              "    <tr>\n",
              "      <th>5</th>\n",
              "      <td>2024</td>\n",
              "      <td>12</td>\n",
              "      <td>소상공인</td>\n",
              "      <td>53031</td>\n",
              "      <td>101773064</td>\n",
              "      <td>105830842</td>\n",
              "      <td>106996097</td>\n",
              "      <td>-4640405.5</td>\n",
              "      <td>-4640315.356</td>\n",
              "      <td>2544825</td>\n",
              "      <td>...</td>\n",
              "      <td>1540086.6</td>\n",
              "      <td>1542971</td>\n",
              "      <td>19157.8</td>\n",
              "      <td>57349.338</td>\n",
              "      <td>360</td>\n",
              "      <td>395</td>\n",
              "      <td>470</td>\n",
              "      <td>-72.5</td>\n",
              "      <td>-288.695</td>\n",
              "      <td>2025-03-01 04:02:55.0</td>\n",
              "    </tr>\n",
              "    <tr>\n",
              "      <th>6</th>\n",
              "      <td>2024</td>\n",
              "      <td>12</td>\n",
              "      <td>종교단체</td>\n",
              "      <td>847</td>\n",
              "      <td>7922631</td>\n",
              "      <td>8361049</td>\n",
              "      <td>8016890</td>\n",
              "      <td>-266338.5</td>\n",
              "      <td>-266338.5</td>\n",
              "      <td>309429</td>\n",
              "      <td>...</td>\n",
              "      <td>48661</td>\n",
              "      <td>48241</td>\n",
              "      <td>3244</td>\n",
              "      <td>9732</td>\n",
              "      <td>0</td>\n",
              "      <td>0</td>\n",
              "      <td>0</td>\n",
              "      <td>0</td>\n",
              "      <td>0</td>\n",
              "      <td>2025-03-01 04:02:55.0</td>\n",
              "    </tr>\n",
              "  </tbody>\n",
              "</table>\n",
              "<p>7 rows × 25 columns</p>\n",
              "</div>\n",
              "    <div class=\"colab-df-buttons\">\n",
              "\n",
              "  <div class=\"colab-df-container\">\n",
              "    <button class=\"colab-df-convert\" onclick=\"convertToInteractive('df-fb324635-5188-4f8a-9f8d-33839ac3b0ae')\"\n",
              "            title=\"Convert this dataframe to an interactive table.\"\n",
              "            style=\"display:none;\">\n",
              "\n",
              "  <svg xmlns=\"http://www.w3.org/2000/svg\" height=\"24px\" viewBox=\"0 -960 960 960\">\n",
              "    <path d=\"M120-120v-720h720v720H120Zm60-500h600v-160H180v160Zm220 220h160v-160H400v160Zm0 220h160v-160H400v160ZM180-400h160v-160H180v160Zm440 0h160v-160H620v160ZM180-180h160v-160H180v160Zm440 0h160v-160H620v160Z\"/>\n",
              "  </svg>\n",
              "    </button>\n",
              "\n",
              "  <style>\n",
              "    .colab-df-container {\n",
              "      display:flex;\n",
              "      gap: 12px;\n",
              "    }\n",
              "\n",
              "    .colab-df-convert {\n",
              "      background-color: #E8F0FE;\n",
              "      border: none;\n",
              "      border-radius: 50%;\n",
              "      cursor: pointer;\n",
              "      display: none;\n",
              "      fill: #1967D2;\n",
              "      height: 32px;\n",
              "      padding: 0 0 0 0;\n",
              "      width: 32px;\n",
              "    }\n",
              "\n",
              "    .colab-df-convert:hover {\n",
              "      background-color: #E2EBFA;\n",
              "      box-shadow: 0px 1px 2px rgba(60, 64, 67, 0.3), 0px 1px 3px 1px rgba(60, 64, 67, 0.15);\n",
              "      fill: #174EA6;\n",
              "    }\n",
              "\n",
              "    .colab-df-buttons div {\n",
              "      margin-bottom: 4px;\n",
              "    }\n",
              "\n",
              "    [theme=dark] .colab-df-convert {\n",
              "      background-color: #3B4455;\n",
              "      fill: #D2E3FC;\n",
              "    }\n",
              "\n",
              "    [theme=dark] .colab-df-convert:hover {\n",
              "      background-color: #434B5C;\n",
              "      box-shadow: 0px 1px 3px 1px rgba(0, 0, 0, 0.15);\n",
              "      filter: drop-shadow(0px 1px 2px rgba(0, 0, 0, 0.3));\n",
              "      fill: #FFFFFF;\n",
              "    }\n",
              "  </style>\n",
              "\n",
              "    <script>\n",
              "      const buttonEl =\n",
              "        document.querySelector('#df-fb324635-5188-4f8a-9f8d-33839ac3b0ae button.colab-df-convert');\n",
              "      buttonEl.style.display =\n",
              "        google.colab.kernel.accessAllowed ? 'block' : 'none';\n",
              "\n",
              "      async function convertToInteractive(key) {\n",
              "        const element = document.querySelector('#df-fb324635-5188-4f8a-9f8d-33839ac3b0ae');\n",
              "        const dataTable =\n",
              "          await google.colab.kernel.invokeFunction('convertToInteractive',\n",
              "                                                    [key], {});\n",
              "        if (!dataTable) return;\n",
              "\n",
              "        const docLinkHtml = 'Like what you see? Visit the ' +\n",
              "          '<a target=\"_blank\" href=https://colab.research.google.com/notebooks/data_table.ipynb>data table notebook</a>'\n",
              "          + ' to learn more about interactive tables.';\n",
              "        element.innerHTML = '';\n",
              "        dataTable['output_type'] = 'display_data';\n",
              "        await google.colab.output.renderOutput(dataTable, element);\n",
              "        const docLink = document.createElement('div');\n",
              "        docLink.innerHTML = docLinkHtml;\n",
              "        element.appendChild(docLink);\n",
              "      }\n",
              "    </script>\n",
              "  </div>\n",
              "\n",
              "\n",
              "    <div id=\"df-70c3fc8a-7429-40a3-95f8-479ffcc97ece\">\n",
              "      <button class=\"colab-df-quickchart\" onclick=\"quickchart('df-70c3fc8a-7429-40a3-95f8-479ffcc97ece')\"\n",
              "                title=\"Suggest charts\"\n",
              "                style=\"display:none;\">\n",
              "\n",
              "<svg xmlns=\"http://www.w3.org/2000/svg\" height=\"24px\"viewBox=\"0 0 24 24\"\n",
              "     width=\"24px\">\n",
              "    <g>\n",
              "        <path d=\"M19 3H5c-1.1 0-2 .9-2 2v14c0 1.1.9 2 2 2h14c1.1 0 2-.9 2-2V5c0-1.1-.9-2-2-2zM9 17H7v-7h2v7zm4 0h-2V7h2v10zm4 0h-2v-4h2v4z\"/>\n",
              "    </g>\n",
              "</svg>\n",
              "      </button>\n",
              "\n",
              "<style>\n",
              "  .colab-df-quickchart {\n",
              "      --bg-color: #E8F0FE;\n",
              "      --fill-color: #1967D2;\n",
              "      --hover-bg-color: #E2EBFA;\n",
              "      --hover-fill-color: #174EA6;\n",
              "      --disabled-fill-color: #AAA;\n",
              "      --disabled-bg-color: #DDD;\n",
              "  }\n",
              "\n",
              "  [theme=dark] .colab-df-quickchart {\n",
              "      --bg-color: #3B4455;\n",
              "      --fill-color: #D2E3FC;\n",
              "      --hover-bg-color: #434B5C;\n",
              "      --hover-fill-color: #FFFFFF;\n",
              "      --disabled-bg-color: #3B4455;\n",
              "      --disabled-fill-color: #666;\n",
              "  }\n",
              "\n",
              "  .colab-df-quickchart {\n",
              "    background-color: var(--bg-color);\n",
              "    border: none;\n",
              "    border-radius: 50%;\n",
              "    cursor: pointer;\n",
              "    display: none;\n",
              "    fill: var(--fill-color);\n",
              "    height: 32px;\n",
              "    padding: 0;\n",
              "    width: 32px;\n",
              "  }\n",
              "\n",
              "  .colab-df-quickchart:hover {\n",
              "    background-color: var(--hover-bg-color);\n",
              "    box-shadow: 0 1px 2px rgba(60, 64, 67, 0.3), 0 1px 3px 1px rgba(60, 64, 67, 0.15);\n",
              "    fill: var(--button-hover-fill-color);\n",
              "  }\n",
              "\n",
              "  .colab-df-quickchart-complete:disabled,\n",
              "  .colab-df-quickchart-complete:disabled:hover {\n",
              "    background-color: var(--disabled-bg-color);\n",
              "    fill: var(--disabled-fill-color);\n",
              "    box-shadow: none;\n",
              "  }\n",
              "\n",
              "  .colab-df-spinner {\n",
              "    border: 2px solid var(--fill-color);\n",
              "    border-color: transparent;\n",
              "    border-bottom-color: var(--fill-color);\n",
              "    animation:\n",
              "      spin 1s steps(1) infinite;\n",
              "  }\n",
              "\n",
              "  @keyframes spin {\n",
              "    0% {\n",
              "      border-color: transparent;\n",
              "      border-bottom-color: var(--fill-color);\n",
              "      border-left-color: var(--fill-color);\n",
              "    }\n",
              "    20% {\n",
              "      border-color: transparent;\n",
              "      border-left-color: var(--fill-color);\n",
              "      border-top-color: var(--fill-color);\n",
              "    }\n",
              "    30% {\n",
              "      border-color: transparent;\n",
              "      border-left-color: var(--fill-color);\n",
              "      border-top-color: var(--fill-color);\n",
              "      border-right-color: var(--fill-color);\n",
              "    }\n",
              "    40% {\n",
              "      border-color: transparent;\n",
              "      border-right-color: var(--fill-color);\n",
              "      border-top-color: var(--fill-color);\n",
              "    }\n",
              "    60% {\n",
              "      border-color: transparent;\n",
              "      border-right-color: var(--fill-color);\n",
              "    }\n",
              "    80% {\n",
              "      border-color: transparent;\n",
              "      border-right-color: var(--fill-color);\n",
              "      border-bottom-color: var(--fill-color);\n",
              "    }\n",
              "    90% {\n",
              "      border-color: transparent;\n",
              "      border-bottom-color: var(--fill-color);\n",
              "    }\n",
              "  }\n",
              "</style>\n",
              "\n",
              "      <script>\n",
              "        async function quickchart(key) {\n",
              "          const quickchartButtonEl =\n",
              "            document.querySelector('#' + key + ' button');\n",
              "          quickchartButtonEl.disabled = true;  // To prevent multiple clicks.\n",
              "          quickchartButtonEl.classList.add('colab-df-spinner');\n",
              "          try {\n",
              "            const charts = await google.colab.kernel.invokeFunction(\n",
              "                'suggestCharts', [key], {});\n",
              "          } catch (error) {\n",
              "            console.error('Error during call to suggestCharts:', error);\n",
              "          }\n",
              "          quickchartButtonEl.classList.remove('colab-df-spinner');\n",
              "          quickchartButtonEl.classList.add('colab-df-quickchart-complete');\n",
              "        }\n",
              "        (() => {\n",
              "          let quickchartButtonEl =\n",
              "            document.querySelector('#df-70c3fc8a-7429-40a3-95f8-479ffcc97ece button');\n",
              "          quickchartButtonEl.style.display =\n",
              "            google.colab.kernel.accessAllowed ? 'block' : 'none';\n",
              "        })();\n",
              "      </script>\n",
              "    </div>\n",
              "\n",
              "  <div id=\"id_c00bf95a-d13f-46b4-a29b-3a982ad2a65d\">\n",
              "    <style>\n",
              "      .colab-df-generate {\n",
              "        background-color: #E8F0FE;\n",
              "        border: none;\n",
              "        border-radius: 50%;\n",
              "        cursor: pointer;\n",
              "        display: none;\n",
              "        fill: #1967D2;\n",
              "        height: 32px;\n",
              "        padding: 0 0 0 0;\n",
              "        width: 32px;\n",
              "      }\n",
              "\n",
              "      .colab-df-generate:hover {\n",
              "        background-color: #E2EBFA;\n",
              "        box-shadow: 0px 1px 2px rgba(60, 64, 67, 0.3), 0px 1px 3px 1px rgba(60, 64, 67, 0.15);\n",
              "        fill: #174EA6;\n",
              "      }\n",
              "\n",
              "      [theme=dark] .colab-df-generate {\n",
              "        background-color: #3B4455;\n",
              "        fill: #D2E3FC;\n",
              "      }\n",
              "\n",
              "      [theme=dark] .colab-df-generate:hover {\n",
              "        background-color: #434B5C;\n",
              "        box-shadow: 0px 1px 3px 1px rgba(0, 0, 0, 0.15);\n",
              "        filter: drop-shadow(0px 1px 2px rgba(0, 0, 0, 0.3));\n",
              "        fill: #FFFFFF;\n",
              "      }\n",
              "    </style>\n",
              "    <button class=\"colab-df-generate\" onclick=\"generateWithVariable('df')\"\n",
              "            title=\"Generate code using this dataframe.\"\n",
              "            style=\"display:none;\">\n",
              "\n",
              "  <svg xmlns=\"http://www.w3.org/2000/svg\" height=\"24px\"viewBox=\"0 0 24 24\"\n",
              "       width=\"24px\">\n",
              "    <path d=\"M7,19H8.4L18.45,9,17,7.55,7,17.6ZM5,21V16.75L18.45,3.32a2,2,0,0,1,2.83,0l1.4,1.43a1.91,1.91,0,0,1,.58,1.4,1.91,1.91,0,0,1-.58,1.4L9.25,21ZM18.45,9,17,7.55Zm-12,3A5.31,5.31,0,0,0,4.9,8.1,5.31,5.31,0,0,0,1,6.5,5.31,5.31,0,0,0,4.9,4.9,5.31,5.31,0,0,0,6.5,1,5.31,5.31,0,0,0,8.1,4.9,5.31,5.31,0,0,0,12,6.5,5.46,5.46,0,0,0,6.5,12Z\"/>\n",
              "  </svg>\n",
              "    </button>\n",
              "    <script>\n",
              "      (() => {\n",
              "      const buttonEl =\n",
              "        document.querySelector('#id_c00bf95a-d13f-46b4-a29b-3a982ad2a65d button.colab-df-generate');\n",
              "      buttonEl.style.display =\n",
              "        google.colab.kernel.accessAllowed ? 'block' : 'none';\n",
              "\n",
              "      buttonEl.onclick = () => {\n",
              "        google.colab.notebook.generateWithVariable('df');\n",
              "      }\n",
              "      })();\n",
              "    </script>\n",
              "  </div>\n",
              "\n",
              "    </div>\n",
              "  </div>\n"
            ],
            "application/vnd.google.colaboratory.intrinsic+json": {
              "type": "dataframe",
              "variable_name": "df"
            }
          },
          "metadata": {},
          "execution_count": 16
        }
      ]
    },
    {
      "cell_type": "code",
      "source": [
        "import pandas as pd\n",
        "\n",
        "## requests로부터 response, body, item 항목 읽기\n",
        "data = response.json()['response']['body']['items']\n",
        "# print(type(data))\n",
        "# print(len(data))\n",
        "# print(data[0])\n",
        "df = pd.DataFrame(data)\n",
        "df"
      ],
      "metadata": {
        "id": "ilUH_aEBeqnX"
      },
      "execution_count": null,
      "outputs": []
    },
    {
      "cell_type": "markdown",
      "source": [
        "## 다양항 형식으로 데이터 저장\n"
      ],
      "metadata": {
        "id": "vVG0HYb0ymeM"
      }
    },
    {
      "cell_type": "code",
      "source": [
        "## CSV 형식 데이터 저장\n",
        "df.to_csv('air_pollution.csv', index=False, encoding='utf-8')\n",
        "\n",
        "## JSON 형식 데이터 저장\n",
        "df.to_json('air_pollution.json', indent=4, force_ascii=False)\n",
        "\n",
        "## EXCEL 형식 데이터 저장\n",
        "df.to_excel('air_pollution.csv', index=False)\n",
        "\n",
        "## HTML 형식 데이터 저장\n",
        "df.to_htm('air_pollution.html')\n"
      ],
      "metadata": {
        "id": "HW1ZodpgXNhG"
      },
      "execution_count": null,
      "outputs": []
    },
    {
      "cell_type": "code",
      "source": [
        "df.to_csv('air_pollution.csv', index=False, encoding='utf-8')\n",
        "\n",
        "## JSON 형식 데이터 저장\n",
        "\n",
        "## EXCEL 형식 데이터 저장\n",
        "\n",
        "## HTML 형식 데이터 저장\n"
      ],
      "metadata": {
        "id": "S2v08oyviAXU"
      },
      "execution_count": null,
      "outputs": []
    }
  ]
}